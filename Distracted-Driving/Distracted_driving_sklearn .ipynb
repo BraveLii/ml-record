{
 "cells": [
  {
   "cell_type": "markdown",
   "metadata": {},
   "source": [
    "# 分心驾驶数据分析\n",
    "\n",
    "训练一个神经网络分类器，对分析驾驶数据进行分类和预测。"
   ]
  },
  {
   "cell_type": "code",
   "execution_count": 1,
   "metadata": {
    "collapsed": true
   },
   "outputs": [],
   "source": [
    "%matplotlib inline\n",
    "%config InlineBackend.figure_format = 'retina'\n",
    "\n",
    "import numpy as np\n",
    "import pandas as pd\n",
    "import matplotlib.pyplot as plt"
   ]
  },
  {
   "cell_type": "markdown",
   "metadata": {},
   "source": [
    "## 加载和准备数据\n"
   ]
  },
  {
   "cell_type": "markdown",
   "metadata": {},
   "source": [
    "### 读取数据\n",
    "从data.excle文件中读取所有Sheet的数据，一共有8个Sheets。"
   ]
  },
  {
   "cell_type": "code",
   "execution_count": 340,
   "metadata": {
    "collapsed": true
   },
   "outputs": [],
   "source": [
    "data_path = \"data.xlsx\"\n",
    "         \n",
    "raw_data = pd.read_excel(data_path, None)\n",
    "n_classes = 2"
   ]
  },
  {
   "cell_type": "code",
   "execution_count": 341,
   "metadata": {},
   "outputs": [
    {
     "name": "stdout",
     "output_type": "stream",
     "text": [
      "excel data has 8 sheets:\n",
      "\t Sheet1 has 180 rows and 4 colums\n",
      "\t Sheet2 has 180 rows and 4 colums\n",
      "\t Sheet6 has 180 rows and 4 colums\n",
      "\t Sheet3 has 180 rows and 4 colums\n",
      "\t Sheet9 has 180 rows and 4 colums\n",
      "\t Sheet5 has 180 rows and 4 colums\n",
      "\t Sheet7 has 180 rows and 4 colums\n",
      "\t Sheet4 has 180 rows and 4 colums\n"
     ]
    }
   ],
   "source": [
    "print \"excel data has {:d} sheets:\".format(len(raw_data))\n",
    "for name in raw_data.keys():\n",
    "    print \"\\t {:} has {:d} rows and {:d} colums\".format(name, raw_data[name].shape[0], raw_data[name].shape[1])"
   ]
  },
  {
   "cell_type": "code",
   "execution_count": 342,
   "metadata": {},
   "outputs": [
    {
     "data": {
      "text/html": [
       "<div>\n",
       "<style>\n",
       "    .dataframe thead tr:only-child th {\n",
       "        text-align: right;\n",
       "    }\n",
       "\n",
       "    .dataframe thead th {\n",
       "        text-align: left;\n",
       "    }\n",
       "\n",
       "    .dataframe tbody tr th {\n",
       "        vertical-align: top;\n",
       "    }\n",
       "</style>\n",
       "<table border=\"1\" class=\"dataframe\">\n",
       "  <thead>\n",
       "    <tr style=\"text-align: right;\">\n",
       "      <th></th>\n",
       "      <th>事项</th>\n",
       "      <th>方向盘转角标准差</th>\n",
       "      <th>事项.1</th>\n",
       "      <th>方向盘转角标准差.1</th>\n",
       "    </tr>\n",
       "  </thead>\n",
       "  <tbody>\n",
       "    <tr>\n",
       "      <th>0</th>\n",
       "      <td>平稳行驶1</td>\n",
       "      <td>0.0373</td>\n",
       "      <td>饮水驾驶次任务1</td>\n",
       "      <td>0.0160</td>\n",
       "    </tr>\n",
       "    <tr>\n",
       "      <th>1</th>\n",
       "      <td>平稳行驶2</td>\n",
       "      <td>0.0277</td>\n",
       "      <td>饮水驾驶次任务2</td>\n",
       "      <td>0.0177</td>\n",
       "    </tr>\n",
       "    <tr>\n",
       "      <th>2</th>\n",
       "      <td>平稳行驶3</td>\n",
       "      <td>0.0103</td>\n",
       "      <td>饮水驾驶次任务3</td>\n",
       "      <td>0.0383</td>\n",
       "    </tr>\n",
       "    <tr>\n",
       "      <th>3</th>\n",
       "      <td>平稳行驶4</td>\n",
       "      <td>0.0382</td>\n",
       "      <td>饮水驾驶次任务4</td>\n",
       "      <td>0.0147</td>\n",
       "    </tr>\n",
       "    <tr>\n",
       "      <th>4</th>\n",
       "      <td>平稳行驶5</td>\n",
       "      <td>0.0248</td>\n",
       "      <td>饮水驾驶次任务5</td>\n",
       "      <td>0.0120</td>\n",
       "    </tr>\n",
       "  </tbody>\n",
       "</table>\n",
       "</div>"
      ],
      "text/plain": [
       "      事项  方向盘转角标准差      事项.1  方向盘转角标准差.1\n",
       "0  平稳行驶1    0.0373  饮水驾驶次任务1      0.0160\n",
       "1  平稳行驶2    0.0277  饮水驾驶次任务2      0.0177\n",
       "2  平稳行驶3    0.0103  饮水驾驶次任务3      0.0383\n",
       "3  平稳行驶4    0.0382  饮水驾驶次任务4      0.0147\n",
       "4  平稳行驶5    0.0248  饮水驾驶次任务5      0.0120"
      ]
     },
     "execution_count": 342,
     "metadata": {},
     "output_type": "execute_result"
    }
   ],
   "source": [
    "k = raw_data.keys()\n",
    "raw_data[k[7]].head()"
   ]
  },
  {
   "cell_type": "markdown",
   "metadata": {},
   "source": [
    "### 数据简介、数据整理\n",
    "将所有的特征提取、整理到一起，并生成相应标签。从上面可以看出，一共有8个Sheet, 并且Sheet的名字并不是从1-8的顺序，有点乱，8个sheet的内容分别是：\n",
    "\n",
    "    车速离差  \n",
    "    车速标准插  \n",
    "    平均加速度  \n",
    "    加速度标准差   \n",
    "    平均油门踏板角度  \n",
    "    油门踏板标准差  \n",
    "    方向盘平均转角   \n",
    "    方向盘转角标准差  \n",
    "    \n",
    "每个Sheet的结构是一致的，平稳驾驶和饮水驾驶的数据各占1列，并且数量都是180，因此将数据整理成如下格式：\n",
    "\n",
    "    speed_bias speed_std acc_mean acc_std  penal_mean penal_std wheel_mean wheel_std  label\n",
    "\n",
    "其中label的取值：\n",
    "\n",
    "    1：分心驾驶\n",
    "    0：平稳驾驶\n",
    "                                                                                    \n",
    "       "
   ]
  },
  {
   "cell_type": "code",
   "execution_count": 343,
   "metadata": {},
   "outputs": [],
   "source": [
    "#从每个sheet里提取出来第2、4列\n",
    "frames = [raw_data[name].iloc[:, [1,3]] for name in raw_data.keys()]\n",
    "\n",
    "#将两列合并成一列\n",
    "frames = [pd.concat([f.iloc[:,0], f.iloc[:,1]], axis=0, ignore_index=True) for f in frames ]\n",
    "\n",
    "#合并所有的特征到一张表里\n",
    "all_data = pd.concat(frames, axis = 1)\n",
    "\n",
    "#增加label\n",
    "labels = np.ones(len(all_data), dtype=np.int32)\n",
    "labels[:len(labels)/2] = 0\n",
    "all_data[-1] = labels\n",
    "\n",
    "#修改colum名称\n",
    "feature_names = ['speed_bias', 'speed_std', 'acc_mean', 'acc_std',  'penal_mean', 'penal_std', \\\n",
    "                  'wheel_mean', 'wheel_std',  'label']\n",
    "colums = list(all_data.columns)\n",
    "name_dict = {old:new for old,new in zip(colums, feature_names)}\n",
    "all_data = all_data.rename(index = str, columns = name_dict)"
   ]
  },
  {
   "cell_type": "code",
   "execution_count": 344,
   "metadata": {},
   "outputs": [
    {
     "data": {
      "text/html": [
       "<div>\n",
       "<style>\n",
       "    .dataframe thead tr:only-child th {\n",
       "        text-align: right;\n",
       "    }\n",
       "\n",
       "    .dataframe thead th {\n",
       "        text-align: left;\n",
       "    }\n",
       "\n",
       "    .dataframe tbody tr th {\n",
       "        vertical-align: top;\n",
       "    }\n",
       "</style>\n",
       "<table border=\"1\" class=\"dataframe\">\n",
       "  <thead>\n",
       "    <tr style=\"text-align: right;\">\n",
       "      <th></th>\n",
       "      <th>speed_bias</th>\n",
       "      <th>speed_std</th>\n",
       "      <th>acc_mean</th>\n",
       "      <th>acc_std</th>\n",
       "      <th>penal_mean</th>\n",
       "      <th>penal_std</th>\n",
       "      <th>wheel_mean</th>\n",
       "      <th>wheel_std</th>\n",
       "      <th>label</th>\n",
       "    </tr>\n",
       "  </thead>\n",
       "  <tbody>\n",
       "    <tr>\n",
       "      <th>0</th>\n",
       "      <td>0.23963</td>\n",
       "      <td>1.1814</td>\n",
       "      <td>-0.0033</td>\n",
       "      <td>0.3334</td>\n",
       "      <td>-0.007535</td>\n",
       "      <td>0.0473</td>\n",
       "      <td>0.1062</td>\n",
       "      <td>0.0373</td>\n",
       "      <td>0</td>\n",
       "    </tr>\n",
       "    <tr>\n",
       "      <th>1</th>\n",
       "      <td>0.13603</td>\n",
       "      <td>1.1085</td>\n",
       "      <td>0.0084</td>\n",
       "      <td>0.2059</td>\n",
       "      <td>-0.001735</td>\n",
       "      <td>0.0299</td>\n",
       "      <td>0.1190</td>\n",
       "      <td>0.0277</td>\n",
       "      <td>0</td>\n",
       "    </tr>\n",
       "    <tr>\n",
       "      <th>2</th>\n",
       "      <td>0.15033</td>\n",
       "      <td>0.5997</td>\n",
       "      <td>-0.0019</td>\n",
       "      <td>0.0748</td>\n",
       "      <td>0.002765</td>\n",
       "      <td>0.0114</td>\n",
       "      <td>0.1341</td>\n",
       "      <td>0.0103</td>\n",
       "      <td>0</td>\n",
       "    </tr>\n",
       "    <tr>\n",
       "      <th>3</th>\n",
       "      <td>0.18873</td>\n",
       "      <td>0.8835</td>\n",
       "      <td>-0.0131</td>\n",
       "      <td>0.1834</td>\n",
       "      <td>-0.017635</td>\n",
       "      <td>0.0272</td>\n",
       "      <td>0.0760</td>\n",
       "      <td>0.0382</td>\n",
       "      <td>0</td>\n",
       "    </tr>\n",
       "    <tr>\n",
       "      <th>4</th>\n",
       "      <td>0.38433</td>\n",
       "      <td>1.2829</td>\n",
       "      <td>0.0179</td>\n",
       "      <td>0.1849</td>\n",
       "      <td>0.002065</td>\n",
       "      <td>0.0285</td>\n",
       "      <td>0.1234</td>\n",
       "      <td>0.0248</td>\n",
       "      <td>0</td>\n",
       "    </tr>\n",
       "  </tbody>\n",
       "</table>\n",
       "</div>"
      ],
      "text/plain": [
       "   speed_bias  speed_std  acc_mean  acc_std  penal_mean  penal_std  \\\n",
       "0     0.23963     1.1814   -0.0033   0.3334   -0.007535     0.0473   \n",
       "1     0.13603     1.1085    0.0084   0.2059   -0.001735     0.0299   \n",
       "2     0.15033     0.5997   -0.0019   0.0748    0.002765     0.0114   \n",
       "3     0.18873     0.8835   -0.0131   0.1834   -0.017635     0.0272   \n",
       "4     0.38433     1.2829    0.0179   0.1849    0.002065     0.0285   \n",
       "\n",
       "   wheel_mean  wheel_std  label  \n",
       "0      0.1062     0.0373      0  \n",
       "1      0.1190     0.0277      0  \n",
       "2      0.1341     0.0103      0  \n",
       "3      0.0760     0.0382      0  \n",
       "4      0.1234     0.0248      0  "
      ]
     },
     "execution_count": 344,
     "metadata": {},
     "output_type": "execute_result"
    }
   ],
   "source": [
    "all_data.head()"
   ]
  },
  {
   "cell_type": "markdown",
   "metadata": {},
   "source": [
    "### 数据简介\n",
    "\n",
    "此数据集包括了平稳驾驶、饮水驾驶各180次的数据，数据特征为车速标准差(speed)、加速度标准差(acc)、方向盘转角标准差(wheel)、油门踏板标准差(pedal)。改变上方的索引，可以看到不同特征前几行的数据。\n",
    "\n",
    "下图绘制出了各特征的正负样本分布图。"
   ]
  },
  {
   "cell_type": "code",
   "execution_count": 79,
   "metadata": {},
   "outputs": [
    {
     "ename": "NameError",
     "evalue": "name 'name_to_sheet' is not defined",
     "output_type": "error",
     "traceback": [
      "\u001b[1;31m---------------------------------------------------------------------------\u001b[0m",
      "\u001b[1;31mNameError\u001b[0m                                 Traceback (most recent call last)",
      "\u001b[1;32m<ipython-input-79-e37dc22ea4bd>\u001b[0m in \u001b[0;36m<module>\u001b[1;34m()\u001b[0m\n\u001b[0;32m      1\u001b[0m \u001b[0mfig\u001b[0m\u001b[1;33m,\u001b[0m \u001b[0max\u001b[0m \u001b[1;33m=\u001b[0m \u001b[0mplt\u001b[0m\u001b[1;33m.\u001b[0m\u001b[0msubplots\u001b[0m\u001b[1;33m(\u001b[0m\u001b[1;36m4\u001b[0m\u001b[1;33m,\u001b[0m\u001b[1;36m1\u001b[0m\u001b[1;33m,\u001b[0m\u001b[0mfigsize\u001b[0m\u001b[1;33m=\u001b[0m\u001b[1;33m(\u001b[0m\u001b[1;36m20\u001b[0m\u001b[1;33m,\u001b[0m\u001b[1;36m6\u001b[0m\u001b[1;33m)\u001b[0m\u001b[1;33m)\u001b[0m\u001b[1;33m\u001b[0m\u001b[0m\n\u001b[0;32m      2\u001b[0m \u001b[1;33m\u001b[0m\u001b[0m\n\u001b[1;32m----> 3\u001b[1;33m \u001b[0mindex\u001b[0m \u001b[1;33m=\u001b[0m \u001b[0mname_to_sheet\u001b[0m\u001b[1;33m[\u001b[0m\u001b[1;34m'speed'\u001b[0m\u001b[1;33m]\u001b[0m\u001b[1;33m\u001b[0m\u001b[0m\n\u001b[0m\u001b[0;32m      4\u001b[0m \u001b[0mframe\u001b[0m \u001b[1;33m=\u001b[0m \u001b[0mdeviation\u001b[0m\u001b[1;33m[\u001b[0m\u001b[0mindex\u001b[0m\u001b[1;33m]\u001b[0m\u001b[1;33m\u001b[0m\u001b[0m\n\u001b[0;32m      5\u001b[0m \u001b[0mcol\u001b[0m \u001b[1;33m=\u001b[0m \u001b[0mframe\u001b[0m\u001b[1;33m.\u001b[0m\u001b[0mcolumns\u001b[0m\u001b[1;33m\u001b[0m\u001b[0m\n",
      "\u001b[1;31mNameError\u001b[0m: name 'name_to_sheet' is not defined"
     ]
    },
    {
     "data": {
      "image/png": "[encoded data removed]",
      "text/plain": [
       "<matplotlib.figure.Figure at 0x9632748>"
      ]
     },
     "metadata": {
      "image/png": {
       "height": 360,
       "width": 1161
      }
     },
     "output_type": "display_data"
    }
   ],
   "source": [
    "fig, ax = plt.subplots(4,1,figsize=(20,6))\n",
    "\n",
    "index = name_to_sheet['speed']\n",
    "frame = deviation[index]\n",
    "col = frame.columns\n",
    "ax[0].plot(frame.index, frame[col[1]])\n",
    "ax[0].plot(frame.index, frame[col[3]])\n",
    "\n",
    "index = name_to_sheet['acc']\n",
    "frame = deviation[index]\n",
    "col = frame.columns\n",
    "ax[1].scatter(frame.index, frame[col[1]])\n",
    "ax[1].scatter(frame.index, frame[col[3]])\n",
    "\n",
    "index = name_to_sheet['wheel']\n",
    "frame = deviation[index]\n",
    "col = frame.columns\n",
    "ax[2].scatter(frame.index, frame[col[1]])\n",
    "ax[2].scatter(frame.index, frame[col[3]])\n",
    "\n",
    "index = name_to_sheet['pedal']\n",
    "frame = deviation[index]\n",
    "col = frame.columns\n",
    "ax[3].scatter(frame.index, frame[col[1]])\n",
    "ax[3].scatter(frame.index, frame[col[3]])"
   ]
  },
  {
   "cell_type": "markdown",
   "metadata": {},
   "source": [
    "### 调整目标变量\n",
    "\n",
    "为了更轻松地训练网络，对每个连续变量标准化，即转换和调整变量，使它们的均值为 0，标准差为 1。\n",
    "\n",
    "我们会保存换算因子，以便当我们使用网络进行预测时可以还原数据。"
   ]
  },
  {
   "cell_type": "code",
   "execution_count": 223,
   "metadata": {},
   "outputs": [],
   "source": [
    "# Store scalings in a dictionary so we can convert back later\n",
    "from sklearn.preprocessing import MinMaxScaler\n",
    "\n",
    "scaler = MinMaxScaler()\n",
    "all_features = scaler.fit_transform(all_data.drop('label', axis = 1))\n",
    "all_labels = all_data['label'].values"
   ]
  },
  {
   "cell_type": "code",
   "execution_count": 224,
   "metadata": {
    "scrolled": true
   },
   "outputs": [
    {
     "data": {
      "text/plain": [
       "array([[ 0.61441597,  0.09833512,  0.35493827, ...,  0.11549986,\n",
       "         0.85231934,  0.27242798],\n",
       "       [ 0.60738207,  0.09044884,  0.38271605, ...,  0.06810133,\n",
       "         0.89271063,  0.19341564],\n",
       "       [ 0.60835296,  0.03540713,  0.35826211, ...,  0.01770635,\n",
       "         0.94035973,  0.05020576],\n",
       "       ..., \n",
       "       [ 0.49453888,  0.34286394,  0.24192783, ...,  0.3522201 ,\n",
       "         0.90943515,  0.22716049],\n",
       "       [ 0.74166235,  0.36391566,  0.43708452, ...,  0.28684282,\n",
       "         0.80656358,  0.38106996],\n",
       "       [ 0.63960969,  0.32026526,  0.17545109, ...,  0.37401253,\n",
       "         0.97317766,  0.18930041]])"
      ]
     },
     "execution_count": 224,
     "metadata": {},
     "output_type": "execute_result"
    }
   ],
   "source": [
    "all_features"
   ]
  },
  {
   "cell_type": "markdown",
   "metadata": {},
   "source": [
    "### 特征选择"
   ]
  },
  {
   "cell_type": "code",
   "execution_count": 324,
   "metadata": {},
   "outputs": [],
   "source": [
    "from sklearn.feature_selection import SelectKBest\n",
    "from sklearn.feature_selection import chi2\n",
    "\n",
    "#选择K个最好的特征，返回选择特征后的数据\n",
    "selector = SelectKBest(chi2, k=8)\n",
    "selected_features = selector.fit_transform(all_features, all_labels)"
   ]
  },
  {
   "cell_type": "code",
   "execution_count": 325,
   "metadata": {},
   "outputs": [
    {
     "data": {
      "text/plain": [
       "array([  4.16092015e-04,   1.31174479e+01,   3.37445207e-01,\n",
       "         1.27018179e+01,   6.43914177e-09,   9.44482098e+00,\n",
       "         2.91332747e-02,   8.44811203e-01])"
      ]
     },
     "execution_count": 325,
     "metadata": {},
     "output_type": "execute_result"
    }
   ],
   "source": [
    "selector.scores_"
   ]
  },
  {
   "cell_type": "markdown",
   "metadata": {},
   "source": [
    "### 将数据拆分为训练、测试和验证数据集\n",
    "\n"
   ]
  },
  {
   "cell_type": "code",
   "execution_count": 326,
   "metadata": {},
   "outputs": [],
   "source": [
    "from sklearn.cross_validation import train_test_split\n",
    "\n",
    "X_train, X_test, y_train, y_test = train_test_split(selected_features, all_labels, test_size=0.2, random_state=3)"
   ]
  },
  {
   "cell_type": "code",
   "execution_count": 327,
   "metadata": {},
   "outputs": [
    {
     "data": {
      "text/plain": [
       "72"
      ]
     },
     "execution_count": 327,
     "metadata": {},
     "output_type": "execute_result"
    }
   ],
   "source": [
    "len(X_test)"
   ]
  },
  {
   "cell_type": "markdown",
   "metadata": {},
   "source": [
    "# 评价指标"
   ]
  },
  {
   "cell_type": "markdown",
   "metadata": {},
   "source": [
    "## 开始训练\n",
    "  "
   ]
  },
  {
   "cell_type": "markdown",
   "metadata": {},
   "source": [
    "### SVM\n"
   ]
  },
  {
   "cell_type": "code",
   "execution_count": 328,
   "metadata": {},
   "outputs": [
    {
     "data": {
      "text/plain": [
       "0.79166666666666663"
      ]
     },
     "execution_count": 328,
     "metadata": {},
     "output_type": "execute_result"
    }
   ],
   "source": [
    "from sklearn.svm import SVC\n",
    "from sklearn.cross_validation import KFold\n",
    "\n",
    "clf = SVC(C=10, kernel='linear')\n",
    "clf.fit(X_train, y_train)\n",
    "clf.score(X_test, y_test)"
   ]
  },
  {
   "cell_type": "code",
   "execution_count": 329,
   "metadata": {},
   "outputs": [
    {
     "data": {
      "text/plain": [
       "0.84722222222222221"
      ]
     },
     "execution_count": 329,
     "metadata": {},
     "output_type": "execute_result"
    }
   ],
   "source": [
    "from sklearn.tree import DecisionTreeClassifier\n",
    "from sklearn.cross_validation import KFold\n",
    "\n",
    "clf = DecisionTreeClassifier(max_depth= 10)\n",
    "clf.fit(X_train, y_train)\n",
    "clf.score(X_test, y_test)"
   ]
  },
  {
   "cell_type": "code",
   "execution_count": 330,
   "metadata": {},
   "outputs": [
    {
     "data": {
      "text/plain": [
       "0.84722222222222221"
      ]
     },
     "execution_count": 330,
     "metadata": {},
     "output_type": "execute_result"
    }
   ],
   "source": [
    "from sklearn.ensemble import RandomForestClassifier\n",
    "\n",
    "clf = RandomForestClassifier()\n",
    "clf.fit(X_train, y_train)\n",
    "clf.score(X_test, y_test)"
   ]
  },
  {
   "cell_type": "code",
   "execution_count": 331,
   "metadata": {},
   "outputs": [
    {
     "data": {
      "text/plain": [
       "0.83333333333333337"
      ]
     },
     "execution_count": 331,
     "metadata": {},
     "output_type": "execute_result"
    }
   ],
   "source": [
    "from sklearn.ensemble import AdaBoostClassifier\n",
    "\n",
    "clf = AdaBoostClassifier()\n",
    "clf.fit(X_train, y_train)\n",
    "clf.score(X_test, y_test)"
   ]
  },
  {
   "cell_type": "markdown",
   "metadata": {},
   "source": [
    "## 参数优化"
   ]
  },
  {
   "cell_type": "code",
   "execution_count": 332,
   "metadata": {},
   "outputs": [
    {
     "data": {
      "text/plain": [
       "GridSearchCV(cv=10, error_score='raise',\n",
       "       estimator=DecisionTreeClassifier(class_weight=None, criterion='gini', max_depth=None,\n",
       "            max_features=None, max_leaf_nodes=None,\n",
       "            min_impurity_decrease=0.0, min_impurity_split=None,\n",
       "            min_samples_leaf=1, min_samples_split=2,\n",
       "            min_weight_fraction_leaf=0.0, presort=False, random_state=None,\n",
       "            splitter='best'),\n",
       "       fit_params=None, iid=True, n_jobs=1,\n",
       "       param_grid={'max_depth': [1, 2, 3, 4, 5, 6, 7, 8, 9, 10, 11, 12, 13, 14, 15, 16, 17, 18, 19, 20, 21, 22, 23, 24, 25, 26, 27, 28, 29, 30, 31, 32, 33, 34, 35, 36, 37, 38, 39, 40, 41, 42, 43, 44, 45, 46, 47, 48, 49, 50, 51, 52, 53, 54, 55, 56, 57, 58, 59, 60, 61, 62, 63, 64, 65, 66, 67, 68, 69, 70, 71, 72, 73, 74, 75, 76, 77, 78, 79, 80, 81, 82, 83, 84, 85, 86, 87, 88, 89, 90, 91, 92, 93, 94, 95, 96, 97, 98, 99]},\n",
       "       pre_dispatch='2*n_jobs', refit=True, return_train_score=True,\n",
       "       scoring=None, verbose=0)"
      ]
     },
     "execution_count": 332,
     "metadata": {},
     "output_type": "execute_result"
    }
   ],
   "source": [
    "from sklearn.model_selection import GridSearchCV\n",
    "\n",
    "clf = DecisionTreeClassifier()\n",
    "para = {'max_depth':[i for i in range(1,100)]}\n",
    "\n",
    "grid_clf = GridSearchCV(clf, para, cv=10)\n",
    "grid_clf.fit(X_train, y_train)"
   ]
  },
  {
   "cell_type": "code",
   "execution_count": 336,
   "metadata": {},
   "outputs": [
    {
     "data": {
      "text/plain": [
       "GridSearchCV(cv=10, error_score='raise',\n",
       "       estimator=SVC(C=1.0, cache_size=200, class_weight=None, coef0=0.0,\n",
       "  decision_function_shape='ovr', degree=3, gamma='auto', kernel='rbf',\n",
       "  max_iter=-1, probability=False, random_state=None, shrinking=True,\n",
       "  tol=0.001, verbose=False),\n",
       "       fit_params=None, iid=True, n_jobs=1,\n",
       "       param_grid={'kernel': ['linear', 'rbf'], 'C': [1, 2, 3, 4, 5, 6, 7, 8, 9, 10, 11, 12, 13, 14, 15, 16, 17, 18, 19]},\n",
       "       pre_dispatch='2*n_jobs', refit=True, return_train_score=True,\n",
       "       scoring=None, verbose=0)"
      ]
     },
     "execution_count": 336,
     "metadata": {},
     "output_type": "execute_result"
    }
   ],
   "source": [
    "from sklearn.model_selection import GridSearchCV\n",
    "\n",
    "clf = SVC()\n",
    "arr = [i for i in range(1,20)]\n",
    "para = {'kernel':['linear', 'rbf'], 'C':arr}\n",
    "\n",
    "grid_clf = GridSearchCV(clf, para, cv=10)\n",
    "grid_clf.fit(X_train, y_train)\n"
   ]
  },
  {
   "cell_type": "code",
   "execution_count": 337,
   "metadata": {},
   "outputs": [
    {
     "data": {
      "text/plain": [
       "0.85763888888888884"
      ]
     },
     "execution_count": 337,
     "metadata": {},
     "output_type": "execute_result"
    }
   ],
   "source": [
    "grid_clf.best_score_"
   ]
  },
  {
   "cell_type": "code",
   "execution_count": 338,
   "metadata": {},
   "outputs": [
    {
     "data": {
      "text/plain": [
       "{'C': 15, 'kernel': 'linear'}"
      ]
     },
     "execution_count": 338,
     "metadata": {},
     "output_type": "execute_result"
    }
   ],
   "source": [
    "grid_clf.best_params_"
   ]
  },
  {
   "cell_type": "code",
   "execution_count": 339,
   "metadata": {},
   "outputs": [
    {
     "data": {
      "text/plain": [
       "0.79166666666666663"
      ]
     },
     "execution_count": 339,
     "metadata": {},
     "output_type": "execute_result"
    }
   ],
   "source": [
    "grid_clf.score(X_test, y_test)"
   ]
  },
  {
   "cell_type": "markdown",
   "metadata": {},
   "source": [
    "## 检查预测结果\n",
    "\n",
    "使用测试数据看看网络对数据建模的效果如何。如果完全错了，请确保网络中的每步都正确实现。"
   ]
  },
  {
   "cell_type": "code",
   "execution_count": null,
   "metadata": {
    "collapsed": true,
    "scrolled": false
   },
   "outputs": [],
   "source": [
    "fig, ax = plt.subplots(figsize=(8,4))\n",
    "\n",
    "mean, std = scaled_features['cnt']\n",
    "predictions = network.run(test_features).T*std + mean\n",
    "ax.plot(predictions[0], label='Prediction')\n",
    "ax.plot((test_targets['cnt']*std + mean).values, label='Data')\n",
    "ax.set_xlim(right=len(predictions))\n",
    "ax.legend()\n",
    "\n",
    "dates = pd.to_datetime(rides.ix[test_data.index]['dteday'])\n",
    "dates = dates.apply(lambda d: d.strftime('%b %d'))\n",
    "ax.set_xticks(np.arange(len(dates))[12::24])\n",
    "_ = ax.set_xticklabels(dates[12::24], rotation=45)"
   ]
  },
  {
   "cell_type": "code",
   "execution_count": null,
   "metadata": {
    "collapsed": true
   },
   "outputs": [],
   "source": []
  }
 ],
 "metadata": {
  "anaconda-cloud": {},
  "kernelspec": {
   "display_name": "Python 2",
   "language": "python",
   "name": "python2"
  },
  "language_info": {
   "codemirror_mode": {
    "name": "ipython",
    "version": 2
   },
   "file_extension": ".py",
   "mimetype": "text/x-python",
   "name": "python",
   "nbconvert_exporter": "python",
   "pygments_lexer": "ipython2",
   "version": "2.7.13"
  }
 },
 "nbformat": 4,
 "nbformat_minor": 2
}
